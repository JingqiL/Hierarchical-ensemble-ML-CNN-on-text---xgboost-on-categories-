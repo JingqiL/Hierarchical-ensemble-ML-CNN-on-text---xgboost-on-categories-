{
 "cells": [
  {
   "cell_type": "code",
   "execution_count": 1,
   "metadata": {},
   "outputs": [
    {
     "name": "stderr",
     "output_type": "stream",
     "text": [
      "Using TensorFlow backend.\n"
     ]
    }
   ],
   "source": [
    "import numpy as np\n",
    "import pandas as pd\n",
    "\n",
    "from sklearn.metrics import roc_auc_score\n",
    "\n",
    "from keras.models import Model\n",
    "from keras.layers import Input, Embedding, Dense, Conv2D, MaxPool2D, Add\n",
    "from keras.layers import Reshape, Flatten, Concatenate, Dropout, SpatialDropout1D\n",
    "from keras.preprocessing import text, sequence\n",
    "from keras.callbacks import Callback\n",
    "from sklearn.model_selection import KFold\n",
    "import gc\n",
    "import math\n",
    "from sklearn import metrics"
   ]
  },
  {
   "cell_type": "code",
   "execution_count": 2,
   "metadata": {},
   "outputs": [],
   "source": [
    "def get_coefs(word, *arr): return word, np.asarray(arr, dtype='float32')\n",
    "embeddings_index = dict(get_coefs(*o.rstrip().rsplit(' ')) for o in open('./wiki.ru.vec'))"
   ]
  },
  {
   "cell_type": "code",
   "execution_count": 56,
   "metadata": {},
   "outputs": [],
   "source": [
    "train = pd.read_csv('train.csv')\n",
    "y_train = train['deal_probability']"
   ]
  },
  {
   "cell_type": "code",
   "execution_count": 57,
   "metadata": {},
   "outputs": [],
   "source": [
    "test = pd.read_csv('test.csv')"
   ]
  },
  {
   "cell_type": "code",
   "execution_count": 48,
   "metadata": {},
   "outputs": [],
   "source": [
    "train['t'] = 0\n",
    "train['d'] = 0\n",
    "test['t'] = 0\n",
    "test['d'] = 0"
   ]
  },
  {
   "cell_type": "code",
   "execution_count": 58,
   "metadata": {},
   "outputs": [],
   "source": [
    "train['mix'] = 0\n",
    "test['mix'] = 0"
   ]
  },
  {
   "cell_type": "code",
   "execution_count": 61,
   "metadata": {},
   "outputs": [],
   "source": [
    "kf = KFold(n_splits=3, random_state=2018)\n",
    "idtotal = kf.split(train)"
   ]
  },
  {
   "cell_type": "code",
   "execution_count": 50,
   "metadata": {},
   "outputs": [],
   "source": [
    "max_features = 100000\n",
    "maxlen_t = 15\n",
    "maxlen_d = 60\n",
    "embed_size = 300\n",
    "filter_sizes = [1,2,3,4]\n",
    "num_filters = 32\n",
    "batch_size = 256\n",
    "epochs = 3"
   ]
  },
  {
   "cell_type": "code",
   "execution_count": 51,
   "metadata": {},
   "outputs": [],
   "source": [
    "tokenizer = text.Tokenizer(num_words=max_features)\n",
    "input_t = train['title'].fillna('fillna').values\n",
    "input_d = train['description'].astype(str).fillna('fillna').values\n",
    "test_t = test['title'].fillna('fillna').values\n",
    "test_d = test['description'].astype(str).fillna('fillna').values\n",
    "tokenizer.fit_on_texts(list(input_t) + list(test_t))\n",
    "tokenizer.fit_on_texts(list(input_d) + list(test_d))\n",
    "input_t = tokenizer.texts_to_sequences(input_t)\n",
    "test_t = tokenizer.texts_to_sequences(test_t)\n",
    "input_d = tokenizer.texts_to_sequences(input_d)\n",
    "test_d = tokenizer.texts_to_sequences(test_d)\n",
    "input_t = sequence.pad_sequences(input_t, maxlen=maxlen_t)\n",
    "test_t = sequence.pad_sequences(test_t, maxlen=maxlen_t)\n",
    "input_d = sequence.pad_sequences(input_d, maxlen=maxlen_d)\n",
    "test_d = sequence.pad_sequences(test_d, maxlen=maxlen_d)"
   ]
  },
  {
   "cell_type": "code",
   "execution_count": 52,
   "metadata": {},
   "outputs": [],
   "source": [
    "def data_cleaning(ids):\n",
    "    \n",
    "    t_train = input_t[ids[0]]\n",
    "    t_test = input_t[ids[1]]\n",
    "    d_train = input_d[ids[0]]\n",
    "    d_test = input_d[ids[1]]\n",
    "    y_train_ = y_train.loc[ids[0]]\n",
    "    y_train_ = np.array(pd.concat([pd.Series(y_train_),pd.Series(1-y_train_)],axis=1))\n",
    "    y_test_ = y_train.loc[ids[1]]\n",
    "        \n",
    "    return {'x_train_t': t_train, 'x_test_t': t_test, 'x_train_d': d_train,\n",
    "           'x_test_d': d_test, 'y_train': y_train_, 'y_test': y_test_ }"
   ]
  },
  {
   "cell_type": "code",
   "execution_count": 53,
   "metadata": {},
   "outputs": [],
   "source": [
    "def CNN(dic):\n",
    "    word_index = tokenizer.word_index\n",
    "    nb_words = min(max_features, len(word_index))\n",
    "    embedding_matrix = np.zeros((nb_words, embed_size))\n",
    "    for word, i in word_index.items():\n",
    "        if i >= max_features: continue\n",
    "        embedding_vector = embeddings_index.get(word)\n",
    "        if embedding_vector is not None: embedding_matrix[i] = embedding_vector\n",
    "    \n",
    "    \n",
    "    inp_t = Input(shape=(maxlen_t, ))\n",
    "    inp_d = Input(shape=(maxlen_d, ))\n",
    "    x_t = Embedding(max_features, embed_size, weights=[embedding_matrix])(inp_t)\n",
    "    x_d = Embedding(max_features, embed_size, weights=[embedding_matrix])(inp_d)\n",
    "    x_t = SpatialDropout1D(0.3)(x_t)\n",
    "    x_d = SpatialDropout1D(0.3)(x_d)\n",
    "    x_t = Reshape((maxlen_t, embed_size, 1))(x_t)\n",
    "    x_d = Reshape((maxlen_d, embed_size, 1))(x_d)\n",
    "    \n",
    "    conv_0_t = Conv2D(num_filters, kernel_size=(filter_sizes[0], embed_size), kernel_initializer='normal', activation='elu')(x_t)\n",
    "    conv_1_t = Conv2D(num_filters, kernel_size=(filter_sizes[1], embed_size), kernel_initializer='normal', activation='elu')(x_t)\n",
    "    conv_2_t = Conv2D(num_filters, kernel_size=(filter_sizes[2], embed_size), kernel_initializer='normal', activation='elu')(x_t)\n",
    "    conv_3_t = Conv2D(num_filters, kernel_size=(filter_sizes[3], embed_size), kernel_initializer='normal', activation='elu')(x_t)\n",
    "    #conv_4_t = Conv2D(num_filters, kernel_size=(filter_sizes[4], embed_size), kernel_initializer='normal', activation='elu')(x_t)\n",
    "\n",
    "    conv_0_d = Conv2D(num_filters, kernel_size=(filter_sizes[0], embed_size), kernel_initializer='normal', activation='elu')(x_d)\n",
    "    conv_1_d = Conv2D(num_filters, kernel_size=(filter_sizes[1], embed_size), kernel_initializer='normal', activation='elu')(x_d)\n",
    "    conv_2_d = Conv2D(num_filters, kernel_size=(filter_sizes[2], embed_size), kernel_initializer='normal', activation='elu')(x_d)\n",
    "    conv_3_d = Conv2D(num_filters, kernel_size=(filter_sizes[3], embed_size), kernel_initializer='normal', activation='elu')(x_d)\n",
    "    #conv_4_d = Conv2D(num_filters, kernel_size=(filter_sizes[4], embed_size), kernel_initializer='normal', activation='elu')(x_d)\n",
    "    \n",
    "    maxpool_0_t = MaxPool2D(pool_size=(maxlen_t - filter_sizes[0] + 1, 1))(conv_0_t)\n",
    "    maxpool_1_t = MaxPool2D(pool_size=(maxlen_t - filter_sizes[1] + 1, 1))(conv_1_t)\n",
    "    maxpool_2_t = MaxPool2D(pool_size=(maxlen_t - filter_sizes[2] + 1, 1))(conv_2_t)\n",
    "    maxpool_3_t = MaxPool2D(pool_size=(maxlen_t - filter_sizes[3] + 1, 1))(conv_3_t)\n",
    "    #maxpool_4_t = MaxPool2D(pool_size=(maxlen_t - filter_sizes[4] + 1, 1))(conv_4_t) \n",
    "    \n",
    "    maxpool_0_d = MaxPool2D(pool_size=(maxlen_d - filter_sizes[0] + 1, 1))(conv_0_d)\n",
    "    maxpool_1_d = MaxPool2D(pool_size=(maxlen_d - filter_sizes[1] + 1, 1))(conv_1_d)\n",
    "    maxpool_2_d = MaxPool2D(pool_size=(maxlen_d - filter_sizes[2] + 1, 1))(conv_2_d)\n",
    "    maxpool_3_d = MaxPool2D(pool_size=(maxlen_d - filter_sizes[3] + 1, 1))(conv_3_d)\n",
    "    #maxpool_4_d = MaxPool2D(pool_size=(maxlen_d - filter_sizes[4] + 1, 1))(conv_4_d)  \n",
    "    \n",
    "    z_t = Concatenate(axis=1)([maxpool_0_t, maxpool_1_t, maxpool_2_t, maxpool_3_t])#, maxpool_4_t])   \n",
    "    z_d = Concatenate(axis=1)([maxpool_0_d, maxpool_1_d, maxpool_2_d, maxpool_3_d])#, maxpool_4_d])\n",
    "    z_t = Flatten()(z_t)\n",
    "    z_t = Dropout(0.2)(z_t)\n",
    "    z_d = Flatten()(z_d)\n",
    "    z_d = Dropout(0.2)(z_d)\n",
    "    \n",
    "    out_t = Dense(2, activation=\"softmax\")(z_t)\n",
    "    out_d = Dense(2, activation=\"softmax\")(z_d)\n",
    "    \n",
    "    model_t = Model(inputs=[inp_t], outputs=out_t)\n",
    "    model_d = Model(inputs=[inp_d], outputs=out_d)\n",
    "    model_t.compile(loss='mean_squared_error', optimizer='adam', metrics=['mean_squared_error'])\n",
    "    model_d.compile(loss='mean_squared_error', optimizer='adam', metrics=['mean_squared_error'])\n",
    "    \n",
    "    return {'t': model_t, 'd': model_d}"
   ]
  },
  {
   "cell_type": "code",
   "execution_count": 60,
   "metadata": {},
   "outputs": [],
   "source": [
    "def CNN(dic):\n",
    "    word_index = tokenizer.word_index\n",
    "    nb_words = min(max_features, len(word_index))\n",
    "    embedding_matrix = np.zeros((nb_words, embed_size))\n",
    "    for word, i in word_index.items():\n",
    "        if i >= max_features: continue\n",
    "        embedding_vector = embeddings_index.get(word)\n",
    "        if embedding_vector is not None: embedding_matrix[i] = embedding_vector\n",
    "    \n",
    "    \n",
    "    inp_t = Input(shape=(maxlen_t, ))\n",
    "    inp_d = Input(shape=(maxlen_d, ))\n",
    "    x_t = Embedding(max_features, embed_size, weights=[embedding_matrix])(inp_t)\n",
    "    x_d = Embedding(max_features, embed_size, weights=[embedding_matrix])(inp_d)\n",
    "    x_t = SpatialDropout1D(0.3)(x_t)\n",
    "    x_d = SpatialDropout1D(0.3)(x_d)\n",
    "    x_t = Reshape((maxlen_t, embed_size, 1))(x_t)\n",
    "    x_d = Reshape((maxlen_d, embed_size, 1))(x_d)\n",
    "    \n",
    "    conv_0_t = Conv2D(num_filters, kernel_size=(filter_sizes[0], embed_size), kernel_initializer='normal', activation='elu')(x_t)\n",
    "    conv_1_t = Conv2D(num_filters, kernel_size=(filter_sizes[1], embed_size), kernel_initializer='normal', activation='elu')(x_t)\n",
    "    conv_2_t = Conv2D(num_filters, kernel_size=(filter_sizes[2], embed_size), kernel_initializer='normal', activation='elu')(x_t)\n",
    "    conv_3_t = Conv2D(num_filters, kernel_size=(filter_sizes[3], embed_size), kernel_initializer='normal', activation='elu')(x_t)\n",
    "    #conv_4_t = Conv2D(num_filters, kernel_size=(filter_sizes[4], embed_size), kernel_initializer='normal', activation='elu')(x_t)\n",
    "\n",
    "    conv_0_d = Conv2D(num_filters, kernel_size=(filter_sizes[0], embed_size), kernel_initializer='normal', activation='elu')(x_d)\n",
    "    conv_1_d = Conv2D(num_filters, kernel_size=(filter_sizes[1], embed_size), kernel_initializer='normal', activation='elu')(x_d)\n",
    "    conv_2_d = Conv2D(num_filters, kernel_size=(filter_sizes[2], embed_size), kernel_initializer='normal', activation='elu')(x_d)\n",
    "    conv_3_d = Conv2D(num_filters, kernel_size=(filter_sizes[3], embed_size), kernel_initializer='normal', activation='elu')(x_d)\n",
    "    #conv_4_d = Conv2D(num_filters, kernel_size=(filter_sizes[4], embed_size), kernel_initializer='normal', activation='elu')(x_d)\n",
    "    \n",
    "    maxpool_0_t = MaxPool2D(pool_size=(maxlen_t - filter_sizes[0] + 1, 1))(conv_0_t)\n",
    "    maxpool_1_t = MaxPool2D(pool_size=(maxlen_t - filter_sizes[1] + 1, 1))(conv_1_t)\n",
    "    maxpool_2_t = MaxPool2D(pool_size=(maxlen_t - filter_sizes[2] + 1, 1))(conv_2_t)\n",
    "    maxpool_3_t = MaxPool2D(pool_size=(maxlen_t - filter_sizes[3] + 1, 1))(conv_3_t)\n",
    "    #maxpool_4_t = MaxPool2D(pool_size=(maxlen_t - filter_sizes[4] + 1, 1))(conv_4_t) \n",
    "    \n",
    "    maxpool_0_d = MaxPool2D(pool_size=(maxlen_d - filter_sizes[0] + 1, 1))(conv_0_d)\n",
    "    maxpool_1_d = MaxPool2D(pool_size=(maxlen_d - filter_sizes[1] + 1, 1))(conv_1_d)\n",
    "    maxpool_2_d = MaxPool2D(pool_size=(maxlen_d - filter_sizes[2] + 1, 1))(conv_2_d)\n",
    "    maxpool_3_d = MaxPool2D(pool_size=(maxlen_d - filter_sizes[3] + 1, 1))(conv_3_d)\n",
    "    #maxpool_4_d = MaxPool2D(pool_size=(maxlen_d - filter_sizes[4] + 1, 1))(conv_4_d)  \n",
    "    \n",
    "    z = Concatenate(axis=1)([maxpool_0_t, maxpool_1_t, maxpool_2_t, maxpool_3_t, maxpool_0_d, maxpool_1_d, maxpool_2_d, maxpool_3_d])#, maxpool_4_t])   \n",
    "    z = Flatten()(z)\n",
    "    z = Dropout(0.1)(z)\n",
    "    \n",
    "    out = Dense(2, activation=\"softmax\")(z)\n",
    "    \n",
    "    model = Model(inputs=[inp_t,inp_d], outputs=out)\n",
    "    model.compile(loss='mean_squared_error', optimizer='adam', metrics=['mean_squared_error'])\n",
    "    \n",
    "    return model"
   ]
  },
  {
   "cell_type": "code",
   "execution_count": null,
   "metadata": {
    "scrolled": false
   },
   "outputs": [
    {
     "name": "stdout",
     "output_type": "stream",
     "text": [
      "Fold 1 Start!\n",
      "Data Cleaning Start!\n",
      "CNN Construction Start!\n",
      "Title Trainning Start!\n",
      "Epoch 1/3\n",
      " - 5931s - loss: 0.0558 - mean_squared_error: 0.0558\n",
      "Epoch 2/3\n",
      " - 41075s - loss: 0.0518 - mean_squared_error: 0.0518\n",
      "Epoch 3/3\n"
     ]
    }
   ],
   "source": [
    "k = 0\n",
    "for ids in idtotal:\n",
    "    k += 1\n",
    "    print('Fold ' + str(k) + ' Start!')\n",
    "    \n",
    "    print('Data Cleaning Start!')\n",
    "    a = data_cleaning(ids)\n",
    "    \n",
    "    print('CNN Construction Start!')\n",
    "    models = CNN(a)\n",
    "    \n",
    "    print('Title Trainning Start!')\n",
    "    hist = models.fit([a['x_train_t'],a['x_train_d']], a['y_train'], batch_size=batch_size, epochs=3, verbose=2)\n",
    "    valid_pred = models.predict([a['x_test_t'], a['x_test_d']], batch_size=1024)\n",
    "    train.at[ids[1],'mix'] = valid_pred[:,0]\n",
    "    test_pred = pd.Series(models.predict([test_t, test_d], batch_size=1024)[:,0])\n",
    "    if k == 1:\n",
    "        result = test_pred\n",
    "    else:\n",
    "        result += test_pred\n",
    "     \n",
    "    print('Total RMSE: %f' % math.sqrt(metrics.mean_squared_error(a['y_test'], valid_pred[:,0])))\n",
    "    \n",
    "result = result/3\n",
    "\n",
    "print('Finish!')"
   ]
  },
  {
   "cell_type": "code",
   "execution_count": null,
   "metadata": {},
   "outputs": [],
   "source": []
  },
  {
   "cell_type": "code",
   "execution_count": null,
   "metadata": {},
   "outputs": [],
   "source": []
  },
  {
   "cell_type": "code",
   "execution_count": null,
   "metadata": {},
   "outputs": [],
   "source": []
  },
  {
   "cell_type": "code",
   "execution_count": 38,
   "metadata": {
    "scrolled": false
   },
   "outputs": [
    {
     "name": "stdout",
     "output_type": "stream",
     "text": [
      "Fold 1 Start!\n",
      "Data Cleaning Start!\n",
      "CNN Construction Start!\n",
      "Title Trainning Start!\n",
      "Epoch 1/3\n",
      " - 8239s - loss: 0.0577 - mean_squared_error: 0.0577\n",
      "Epoch 2/3\n",
      " - 2344s - loss: 0.0546 - mean_squared_error: 0.0546\n",
      "Epoch 3/3\n",
      " - 2362s - loss: 0.0534 - mean_squared_error: 0.0534\n",
      "Title RMSE: 0.234528\n",
      "Description Trainning Start!\n",
      "Epoch 1/3\n",
      " - 4343s - loss: 0.0594 - mean_squared_error: 0.0594\n",
      "Epoch 2/3\n",
      " - 4503s - loss: 0.0547 - mean_squared_error: 0.0547\n",
      "Epoch 3/3\n",
      " - 40787s - loss: 0.0525 - mean_squared_error: 0.0525\n",
      "Description RMSE: 0.235712\n",
      "Fold 2 Start!\n",
      "Data Cleaning Start!\n",
      "CNN Construction Start!\n",
      "Title Trainning Start!\n",
      "Epoch 1/3\n",
      " - 2479s - loss: 0.0581 - mean_squared_error: 0.0581\n",
      "Epoch 2/3\n",
      " - 2274s - loss: 0.0546 - mean_squared_error: 0.0546\n",
      "Epoch 3/3\n",
      " - 4719s - loss: 0.0534 - mean_squared_error: 0.0534\n",
      "Title RMSE: 0.234534\n",
      "Description Trainning Start!\n",
      "Epoch 1/3\n",
      " - 4095s - loss: 0.0580 - mean_squared_error: 0.0580\n",
      "Epoch 2/3\n",
      " - 4104s - loss: 0.0546 - mean_squared_error: 0.0546\n",
      "Epoch 3/3\n",
      " - 7044s - loss: 0.0524 - mean_squared_error: 0.0524\n",
      "Description RMSE: 0.235943\n",
      "Fold 3 Start!\n",
      "Data Cleaning Start!\n",
      "CNN Construction Start!\n",
      "Title Trainning Start!\n",
      "Epoch 1/3\n",
      " - 2393s - loss: 0.0575 - mean_squared_error: 0.0575\n",
      "Epoch 2/3\n",
      " - 2447s - loss: 0.0544 - mean_squared_error: 0.0544\n",
      "Epoch 3/3\n",
      " - 2354s - loss: 0.0532 - mean_squared_error: 0.0532\n",
      "Title RMSE: 0.235238\n",
      "Description Trainning Start!\n",
      "Epoch 1/3\n",
      " - 4441s - loss: 0.0606 - mean_squared_error: 0.0606\n",
      "Epoch 2/3\n",
      " - 4458s - loss: 0.0546 - mean_squared_error: 0.0546\n",
      "Epoch 3/3\n",
      " - 4783s - loss: 0.0524 - mean_squared_error: 0.0524\n",
      "Description RMSE: 0.236439\n",
      "Finish!\n"
     ]
    }
   ],
   "source": [
    "k = 0\n",
    "for ids in idtotal:\n",
    "    k += 1\n",
    "    print('Fold ' + str(k) + ' Start!')\n",
    "    \n",
    "    print('Data Cleaning Start!')\n",
    "    a = data_cleaning(ids)\n",
    "    \n",
    "    print('CNN Construction Start!')\n",
    "    models = CNN(a)\n",
    "    \n",
    "    print('Title Trainning Start!')\n",
    "    hist_t = models['t'].fit(a['x_train_t'], a['y_train'], batch_size=batch_size, epochs=3, verbose=2)\n",
    "    valid_t_pred = models['t'].predict(a['x_test_t'], batch_size=1024)\n",
    "    train.at[ids[1],'t'] = valid_t_pred[:,0]\n",
    "    test_t_pred = pd.Series(models['t'].predict(test_t, batch_size=1024)[:,0])\n",
    "    if k == 1:\n",
    "        result_t = test_t_pred\n",
    "    else:\n",
    "        result_t += test_t_pred\n",
    "     \n",
    "    print('Title RMSE: %f' % math.sqrt(metrics.mean_squared_error(a['y_test'], valid_t_pred[:,0])))\n",
    "    \n",
    "    print('Description Trainning Start!')\n",
    "    hist_d = models['d'].fit(a['x_train_d'], a['y_train'], batch_size=batch_size, epochs=3, verbose=2)\n",
    "    valid_d_pred = models['d'].predict(a['x_test_d'], batch_size=1024)\n",
    "    train.at[ids[1],'d'] = valid_d_pred[:,0]\n",
    "    test_d_pred = pd.Series(models['d'].predict(test_d, batch_size=1024)[:,0])\n",
    "    if k == 1:\n",
    "        result_d = test_d_pred\n",
    "    else:\n",
    "        result_d += test_d_pred\n",
    "        \n",
    "    print('Description RMSE: %f' % math.sqrt(metrics.mean_squared_error(a['y_test'], valid_d_pred[:,0])))\n",
    "\n",
    "result_t = result_t/3\n",
    "result_d = result_d/3\n",
    "\n",
    "print('Finish!')"
   ]
  },
  {
   "cell_type": "code",
   "execution_count": 43,
   "metadata": {},
   "outputs": [],
   "source": [
    "train.to_csv('trainforuse.csv',index=False)"
   ]
  },
  {
   "cell_type": "code",
   "execution_count": 44,
   "metadata": {},
   "outputs": [],
   "source": [
    "test['t'] = result_t\n",
    "test['d'] = result_d"
   ]
  },
  {
   "cell_type": "code",
   "execution_count": 45,
   "metadata": {},
   "outputs": [],
   "source": [
    "test.to_csv('testforuse.csv',index=False)"
   ]
  },
  {
   "cell_type": "code",
   "execution_count": null,
   "metadata": {},
   "outputs": [],
   "source": []
  }
 ],
 "metadata": {
  "kernelspec": {
   "display_name": "Python 3",
   "language": "python",
   "name": "python3"
  },
  "language_info": {
   "codemirror_mode": {
    "name": "ipython",
    "version": 3
   },
   "file_extension": ".py",
   "mimetype": "text/x-python",
   "name": "python",
   "nbconvert_exporter": "python",
   "pygments_lexer": "ipython3",
   "version": "3.6.2"
  }
 },
 "nbformat": 4,
 "nbformat_minor": 2
}
